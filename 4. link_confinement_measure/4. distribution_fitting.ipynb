{
 "cells": [
  {
   "cell_type": "markdown",
   "id": "0811d91c-6009-468f-90ba-375784738ced",
   "metadata": {},
   "source": [
    "# Distribution Fitting\n",
    "Comparing exponentional function fits to other distributions"
   ]
  },
  {
   "cell_type": "code",
   "execution_count": null,
   "id": "db46e122-34e3-4ab7-8d14-24c48f2b048c",
   "metadata": {},
   "outputs": [],
   "source": [
    "import pandas as pd\n",
    "import matplotlib.pyplot as plt\n",
    "import numpy as np\n",
    "import powerlaw\n",
    "import os\n",
    "import pandas as pd\n",
    "import powerlaw\n",
    "import numpy as np\n",
    "\n",
    "import warnings\n",
    "warnings.filterwarnings('ignore')\n",
    "name_list = ['human_neuron','rat_neuron',\n",
    "            'monkey_neuron','zebrafish_neuron',\n",
    "    'vascular_2','vascular_3','vascular_1','mitochondrial','root_1','root_2','anthill','fruit_fly_2','fruit_fly_3','fruit_fly_4','fruit_fly_1']"
   ]
  },
  {
   "cell_type": "code",
   "execution_count": 3,
   "id": "621f74a9",
   "metadata": {
    "collapsed": true,
    "jupyter": {
     "outputs_hidden": true
    },
    "tags": []
   },
   "outputs": [
    {
     "name": "stdout",
     "output_type": "stream",
     "text": [
      "Calculating best minimal value for power law fit\n",
      "xmin progress: 98%\r"
     ]
    },
    {
     "name": "stderr",
     "output_type": "stream",
     "text": [
      "Assuming nested distributions\n"
     ]
    },
    {
     "name": "stdout",
     "output_type": "stream",
     "text": [
      "Calculating best minimal value for power law fit\n",
      "Calculating best minimal value for power law fit\n",
      "xmin progress: 96%\r"
     ]
    },
    {
     "name": "stderr",
     "output_type": "stream",
     "text": [
      "Assuming nested distributions\n",
      "Assuming nested distributions\n",
      "'nan' in fit cumulative distribution values.\n",
      "Likely underflow or overflow error: the optimal fit for this distribution gives values that are so extreme that we lack the numerical precision to calculate them.\n"
     ]
    },
    {
     "name": "stdout",
     "output_type": "stream",
     "text": [
      "Calculating best minimal value for power law fit\n",
      "Calculating best minimal value for power law fit\n",
      "xmin progress: 99%\r"
     ]
    },
    {
     "name": "stderr",
     "output_type": "stream",
     "text": [
      "Assuming nested distributions\n",
      "Assuming nested distributions\n"
     ]
    },
    {
     "name": "stdout",
     "output_type": "stream",
     "text": [
      "Calculating best minimal value for power law fit\n",
      "Calculating best minimal value for power law fit\n",
      "xmin progress: 40%\r"
     ]
    },
    {
     "name": "stderr",
     "output_type": "stream",
     "text": [
      "Assuming nested distributions\n",
      "Assuming nested distributions\n"
     ]
    },
    {
     "name": "stdout",
     "output_type": "stream",
     "text": [
      "Calculating best minimal value for power law fit\n",
      "xmin progress: 90%\r"
     ]
    },
    {
     "name": "stderr",
     "output_type": "stream",
     "text": [
      "Assuming nested distributions\n",
      "Assuming nested distributions\n"
     ]
    },
    {
     "name": "stdout",
     "output_type": "stream",
     "text": [
      "Calculating best minimal value for power law fit\n",
      "Calculating best minimal value for power law fit\n",
      "xmin progress: 99%\r"
     ]
    },
    {
     "name": "stderr",
     "output_type": "stream",
     "text": [
      "Assuming nested distributions\n"
     ]
    },
    {
     "name": "stdout",
     "output_type": "stream",
     "text": [
      "Calculating best minimal value for power law fit\n",
      "xmin progress: 99%\r"
     ]
    },
    {
     "name": "stderr",
     "output_type": "stream",
     "text": [
      "Assuming nested distributions\n"
     ]
    },
    {
     "name": "stdout",
     "output_type": "stream",
     "text": [
      "Calculating best minimal value for power law fit\n",
      "xmin progress: 99%\r"
     ]
    },
    {
     "name": "stderr",
     "output_type": "stream",
     "text": [
      "Assuming nested distributions\n"
     ]
    },
    {
     "name": "stdout",
     "output_type": "stream",
     "text": [
      "Calculating best minimal value for power law fit\n",
      "xmin progress: 99%\r"
     ]
    },
    {
     "name": "stderr",
     "output_type": "stream",
     "text": [
      "Assuming nested distributions\n"
     ]
    },
    {
     "name": "stdout",
     "output_type": "stream",
     "text": [
      "Calculating best minimal value for power law fit\n",
      "xmin progress: 99%\r"
     ]
    },
    {
     "name": "stderr",
     "output_type": "stream",
     "text": [
      "Assuming nested distributions\n"
     ]
    },
    {
     "name": "stdout",
     "output_type": "stream",
     "text": [
      "Calculating best minimal value for power law fit\n",
      "xmin progress: 99%\r"
     ]
    },
    {
     "name": "stderr",
     "output_type": "stream",
     "text": [
      "Assuming nested distributions\n"
     ]
    },
    {
     "data": {
      "text/html": [
       "<div>\n",
       "<style scoped>\n",
       "    .dataframe tbody tr th:only-of-type {\n",
       "        vertical-align: middle;\n",
       "    }\n",
       "\n",
       "    .dataframe tbody tr th {\n",
       "        vertical-align: top;\n",
       "    }\n",
       "\n",
       "    .dataframe thead th {\n",
       "        text-align: right;\n",
       "    }\n",
       "</style>\n",
       "<table border=\"1\" class=\"dataframe\">\n",
       "  <thead>\n",
       "    <tr style=\"text-align: right;\">\n",
       "      <th></th>\n",
       "      <th>name</th>\n",
       "      <th>stretched_exponential_pvalue</th>\n",
       "      <th>truncated_power_law_pvalue</th>\n",
       "      <th>lognormal_pvalue</th>\n",
       "      <th>power_law_pvalue</th>\n",
       "    </tr>\n",
       "  </thead>\n",
       "  <tbody>\n",
       "    <tr>\n",
       "      <th>0</th>\n",
       "      <td>human_neuron</td>\n",
       "      <td>1.704560e-01</td>\n",
       "      <td>3.396330e-01</td>\n",
       "      <td>3.522404e-01</td>\n",
       "      <td>3.531268e-01</td>\n",
       "    </tr>\n",
       "    <tr>\n",
       "      <th>1</th>\n",
       "      <td>rat_neuron</td>\n",
       "      <td>9.510711e-01</td>\n",
       "      <td>4.957822e-01</td>\n",
       "      <td>8.589737e-03</td>\n",
       "      <td>1.062648e-02</td>\n",
       "    </tr>\n",
       "    <tr>\n",
       "      <th>2</th>\n",
       "      <td>monkey_neuron</td>\n",
       "      <td>1.756345e-01</td>\n",
       "      <td>1.624573e-01</td>\n",
       "      <td>2.804618e-02</td>\n",
       "      <td>1.625147e-01</td>\n",
       "    </tr>\n",
       "    <tr>\n",
       "      <th>3</th>\n",
       "      <td>zebrafish_neuron</td>\n",
       "      <td>3.356208e-06</td>\n",
       "      <td>2.821355e-02</td>\n",
       "      <td>7.542402e-02</td>\n",
       "      <td>2.135581e-01</td>\n",
       "    </tr>\n",
       "    <tr>\n",
       "      <th>4</th>\n",
       "      <td>vascular_2</td>\n",
       "      <td>2.466870e-01</td>\n",
       "      <td>4.336812e-01</td>\n",
       "      <td>5.325319e-01</td>\n",
       "      <td>8.218010e-01</td>\n",
       "    </tr>\n",
       "    <tr>\n",
       "      <th>5</th>\n",
       "      <td>vascular_3</td>\n",
       "      <td>8.514030e-01</td>\n",
       "      <td>7.221824e-01</td>\n",
       "      <td>1.016927e-03</td>\n",
       "      <td>2.604426e-02</td>\n",
       "    </tr>\n",
       "    <tr>\n",
       "      <th>6</th>\n",
       "      <td>vascular_1</td>\n",
       "      <td>1.513410e-01</td>\n",
       "      <td>3.954103e-01</td>\n",
       "      <td>7.667167e-01</td>\n",
       "      <td>1.733967e-01</td>\n",
       "    </tr>\n",
       "    <tr>\n",
       "      <th>7</th>\n",
       "      <td>mitochondrial</td>\n",
       "      <td>8.632609e-03</td>\n",
       "      <td>1.571963e-01</td>\n",
       "      <td>2.994874e-01</td>\n",
       "      <td>4.096879e-01</td>\n",
       "    </tr>\n",
       "    <tr>\n",
       "      <th>8</th>\n",
       "      <td>root_1</td>\n",
       "      <td>6.980509e-01</td>\n",
       "      <td>6.774013e-01</td>\n",
       "      <td>7.214713e-05</td>\n",
       "      <td>6.666953e-02</td>\n",
       "    </tr>\n",
       "    <tr>\n",
       "      <th>9</th>\n",
       "      <td>root_2</td>\n",
       "      <td>6.074246e-01</td>\n",
       "      <td>7.252729e-01</td>\n",
       "      <td>9.259904e-01</td>\n",
       "      <td>5.578329e-01</td>\n",
       "    </tr>\n",
       "    <tr>\n",
       "      <th>10</th>\n",
       "      <td>anthill</td>\n",
       "      <td>4.821476e-01</td>\n",
       "      <td>7.241851e-01</td>\n",
       "      <td>7.614741e-01</td>\n",
       "      <td>3.647066e-01</td>\n",
       "    </tr>\n",
       "    <tr>\n",
       "      <th>11</th>\n",
       "      <td>fruit_fly_2</td>\n",
       "      <td>7.080782e-02</td>\n",
       "      <td>2.067756e-01</td>\n",
       "      <td>4.831399e-01</td>\n",
       "      <td>6.743986e-01</td>\n",
       "    </tr>\n",
       "    <tr>\n",
       "      <th>12</th>\n",
       "      <td>fruit_fly_3</td>\n",
       "      <td>0.000000e+00</td>\n",
       "      <td>8.547613e-06</td>\n",
       "      <td>1.223597e-05</td>\n",
       "      <td>7.695853e-04</td>\n",
       "    </tr>\n",
       "    <tr>\n",
       "      <th>13</th>\n",
       "      <td>fruit_fly_4</td>\n",
       "      <td>8.459311e-10</td>\n",
       "      <td>2.110965e-04</td>\n",
       "      <td>8.690688e-02</td>\n",
       "      <td>1.988615e-05</td>\n",
       "    </tr>\n",
       "    <tr>\n",
       "      <th>14</th>\n",
       "      <td>fruit_fly_1</td>\n",
       "      <td>0.000000e+00</td>\n",
       "      <td>1.015164e-90</td>\n",
       "      <td>1.224635e-83</td>\n",
       "      <td>1.323262e-43</td>\n",
       "    </tr>\n",
       "  </tbody>\n",
       "</table>\n",
       "</div>"
      ],
      "text/plain": [
       "                name  stretched_exponential_pvalue  \\\n",
       "0       human_neuron                  1.704560e-01   \n",
       "1         rat_neuron                  9.510711e-01   \n",
       "2      monkey_neuron                  1.756345e-01   \n",
       "3   zebrafish_neuron                  3.356208e-06   \n",
       "4         vascular_2                  2.466870e-01   \n",
       "5         vascular_3                  8.514030e-01   \n",
       "6         vascular_1                  1.513410e-01   \n",
       "7      mitochondrial                  8.632609e-03   \n",
       "8             root_1                  6.980509e-01   \n",
       "9             root_2                  6.074246e-01   \n",
       "10           anthill                  4.821476e-01   \n",
       "11       fruit_fly_2                  7.080782e-02   \n",
       "12       fruit_fly_3                  0.000000e+00   \n",
       "13       fruit_fly_4                  8.459311e-10   \n",
       "14       fruit_fly_1                  0.000000e+00   \n",
       "\n",
       "    truncated_power_law_pvalue  lognormal_pvalue  power_law_pvalue  \n",
       "0                 3.396330e-01      3.522404e-01      3.531268e-01  \n",
       "1                 4.957822e-01      8.589737e-03      1.062648e-02  \n",
       "2                 1.624573e-01      2.804618e-02      1.625147e-01  \n",
       "3                 2.821355e-02      7.542402e-02      2.135581e-01  \n",
       "4                 4.336812e-01      5.325319e-01      8.218010e-01  \n",
       "5                 7.221824e-01      1.016927e-03      2.604426e-02  \n",
       "6                 3.954103e-01      7.667167e-01      1.733967e-01  \n",
       "7                 1.571963e-01      2.994874e-01      4.096879e-01  \n",
       "8                 6.774013e-01      7.214713e-05      6.666953e-02  \n",
       "9                 7.252729e-01      9.259904e-01      5.578329e-01  \n",
       "10                7.241851e-01      7.614741e-01      3.647066e-01  \n",
       "11                2.067756e-01      4.831399e-01      6.743986e-01  \n",
       "12                8.547613e-06      1.223597e-05      7.695853e-04  \n",
       "13                2.110965e-04      8.690688e-02      1.988615e-05  \n",
       "14                1.015164e-90      1.224635e-83      1.323262e-43  "
      ]
     },
     "execution_count": 3,
     "metadata": {},
     "output_type": "execute_result"
    }
   ],
   "source": [
    "\n",
    "compare_to = ['stretched_exponential', 'truncated_power_law', 'lognormal', 'power_law']\n",
    "\n",
    "# Initialize an empty list to store the rows of the DataFrame\n",
    "rows = []\n",
    "\n",
    "for name in name_list:\n",
    "    # Load data\n",
    "    data = pd.read_csv('3. link_df_properties/' + name + '_link_properties.csv', index_col=0)['Link_confinement']\n",
    "    data = data[data > 0].values\n",
    "    \n",
    "    # Fit the data\n",
    "    fit = powerlaw.Fit(data)\n",
    "    \n",
    "    # Temporary dictionary to hold the stats and pvalues for the current name\n",
    "    row = {'name': name}\n",
    "    \n",
    "    for dist in compare_to:\n",
    "        stat, pvalue = fit.distribution_compare('exponential', dist)\n",
    "        # Apply filtering: Fill with NaN if p-value > 0.01\n",
    "        row[f'{dist}_pvalue'] = pvalue\n",
    "    \n",
    "    # Append the dictionary to the rows list\n",
    "    rows.append(row)\n",
    "\n",
    "# Create a DataFrame from the rows\n",
    "df = pd.DataFrame(rows)\n",
    "\n",
    "# Reordering the DataFrame columns: first 'name', then stats and pvalues\n",
    "df"
   ]
  },
  {
   "cell_type": "code",
   "execution_count": 4,
   "id": "82788fa2-5014-40d9-a09f-c23978cd923f",
   "metadata": {},
   "outputs": [
    {
     "data": {
      "text/html": [
       "<div>\n",
       "<style scoped>\n",
       "    .dataframe tbody tr th:only-of-type {\n",
       "        vertical-align: middle;\n",
       "    }\n",
       "\n",
       "    .dataframe tbody tr th {\n",
       "        vertical-align: top;\n",
       "    }\n",
       "\n",
       "    .dataframe thead th {\n",
       "        text-align: right;\n",
       "    }\n",
       "</style>\n",
       "<table border=\"1\" class=\"dataframe\">\n",
       "  <thead>\n",
       "    <tr style=\"text-align: right;\">\n",
       "      <th></th>\n",
       "      <th>name</th>\n",
       "      <th>stretched_exponential_pvalue</th>\n",
       "      <th>truncated_power_law_pvalue</th>\n",
       "      <th>lognormal_pvalue</th>\n",
       "      <th>power_law_pvalue</th>\n",
       "    </tr>\n",
       "  </thead>\n",
       "  <tbody>\n",
       "    <tr>\n",
       "      <th>0</th>\n",
       "      <td>human_neuron</td>\n",
       "      <td>0.170</td>\n",
       "      <td>0.340</td>\n",
       "      <td>0.352</td>\n",
       "      <td>0.353</td>\n",
       "    </tr>\n",
       "    <tr>\n",
       "      <th>1</th>\n",
       "      <td>rat_neuron</td>\n",
       "      <td>0.951</td>\n",
       "      <td>0.496</td>\n",
       "      <td>0.009</td>\n",
       "      <td>0.011</td>\n",
       "    </tr>\n",
       "    <tr>\n",
       "      <th>2</th>\n",
       "      <td>monkey_neuron</td>\n",
       "      <td>0.176</td>\n",
       "      <td>0.162</td>\n",
       "      <td>0.028</td>\n",
       "      <td>0.163</td>\n",
       "    </tr>\n",
       "    <tr>\n",
       "      <th>3</th>\n",
       "      <td>zebrafish_neuron</td>\n",
       "      <td>0.000</td>\n",
       "      <td>0.028</td>\n",
       "      <td>0.075</td>\n",
       "      <td>0.214</td>\n",
       "    </tr>\n",
       "    <tr>\n",
       "      <th>4</th>\n",
       "      <td>vascular_2</td>\n",
       "      <td>0.247</td>\n",
       "      <td>0.434</td>\n",
       "      <td>0.533</td>\n",
       "      <td>0.822</td>\n",
       "    </tr>\n",
       "    <tr>\n",
       "      <th>5</th>\n",
       "      <td>vascular_3</td>\n",
       "      <td>0.851</td>\n",
       "      <td>0.722</td>\n",
       "      <td>0.001</td>\n",
       "      <td>0.026</td>\n",
       "    </tr>\n",
       "    <tr>\n",
       "      <th>6</th>\n",
       "      <td>vascular_1</td>\n",
       "      <td>0.151</td>\n",
       "      <td>0.395</td>\n",
       "      <td>0.767</td>\n",
       "      <td>0.173</td>\n",
       "    </tr>\n",
       "    <tr>\n",
       "      <th>7</th>\n",
       "      <td>mitochondrial</td>\n",
       "      <td>0.009</td>\n",
       "      <td>0.157</td>\n",
       "      <td>0.299</td>\n",
       "      <td>0.410</td>\n",
       "    </tr>\n",
       "    <tr>\n",
       "      <th>8</th>\n",
       "      <td>root_1</td>\n",
       "      <td>0.698</td>\n",
       "      <td>0.677</td>\n",
       "      <td>0.000</td>\n",
       "      <td>0.067</td>\n",
       "    </tr>\n",
       "    <tr>\n",
       "      <th>9</th>\n",
       "      <td>root_2</td>\n",
       "      <td>0.607</td>\n",
       "      <td>0.725</td>\n",
       "      <td>0.926</td>\n",
       "      <td>0.558</td>\n",
       "    </tr>\n",
       "    <tr>\n",
       "      <th>10</th>\n",
       "      <td>anthill</td>\n",
       "      <td>0.482</td>\n",
       "      <td>0.724</td>\n",
       "      <td>0.761</td>\n",
       "      <td>0.365</td>\n",
       "    </tr>\n",
       "    <tr>\n",
       "      <th>11</th>\n",
       "      <td>fruit_fly_2</td>\n",
       "      <td>0.071</td>\n",
       "      <td>0.207</td>\n",
       "      <td>0.483</td>\n",
       "      <td>0.674</td>\n",
       "    </tr>\n",
       "    <tr>\n",
       "      <th>12</th>\n",
       "      <td>fruit_fly_3</td>\n",
       "      <td>0.000</td>\n",
       "      <td>0.000</td>\n",
       "      <td>0.000</td>\n",
       "      <td>0.001</td>\n",
       "    </tr>\n",
       "    <tr>\n",
       "      <th>13</th>\n",
       "      <td>fruit_fly_4</td>\n",
       "      <td>0.000</td>\n",
       "      <td>0.000</td>\n",
       "      <td>0.087</td>\n",
       "      <td>0.000</td>\n",
       "    </tr>\n",
       "    <tr>\n",
       "      <th>14</th>\n",
       "      <td>fruit_fly_1</td>\n",
       "      <td>0.000</td>\n",
       "      <td>0.000</td>\n",
       "      <td>0.000</td>\n",
       "      <td>0.000</td>\n",
       "    </tr>\n",
       "  </tbody>\n",
       "</table>\n",
       "</div>"
      ],
      "text/plain": [
       "                name  stretched_exponential_pvalue  \\\n",
       "0       human_neuron                         0.170   \n",
       "1         rat_neuron                         0.951   \n",
       "2      monkey_neuron                         0.176   \n",
       "3   zebrafish_neuron                         0.000   \n",
       "4         vascular_2                         0.247   \n",
       "5         vascular_3                         0.851   \n",
       "6         vascular_1                         0.151   \n",
       "7      mitochondrial                         0.009   \n",
       "8             root_1                         0.698   \n",
       "9             root_2                         0.607   \n",
       "10           anthill                         0.482   \n",
       "11       fruit_fly_2                         0.071   \n",
       "12       fruit_fly_3                         0.000   \n",
       "13       fruit_fly_4                         0.000   \n",
       "14       fruit_fly_1                         0.000   \n",
       "\n",
       "    truncated_power_law_pvalue  lognormal_pvalue  power_law_pvalue  \n",
       "0                        0.340             0.352             0.353  \n",
       "1                        0.496             0.009             0.011  \n",
       "2                        0.162             0.028             0.163  \n",
       "3                        0.028             0.075             0.214  \n",
       "4                        0.434             0.533             0.822  \n",
       "5                        0.722             0.001             0.026  \n",
       "6                        0.395             0.767             0.173  \n",
       "7                        0.157             0.299             0.410  \n",
       "8                        0.677             0.000             0.067  \n",
       "9                        0.725             0.926             0.558  \n",
       "10                       0.724             0.761             0.365  \n",
       "11                       0.207             0.483             0.674  \n",
       "12                       0.000             0.000             0.001  \n",
       "13                       0.000             0.087             0.000  \n",
       "14                       0.000             0.000             0.000  "
      ]
     },
     "execution_count": 4,
     "metadata": {},
     "output_type": "execute_result"
    }
   ],
   "source": [
    "df.round(3)"
   ]
  },
  {
   "cell_type": "code",
   "execution_count": 5,
   "id": "50c015b0-e51c-47fe-8faa-14208b9fb59f",
   "metadata": {},
   "outputs": [
    {
     "data": {
      "text/plain": [
       "<matplotlib.legend.Legend at 0x7ff728f6c340>"
      ]
     },
     "execution_count": 5,
     "metadata": {},
     "output_type": "execute_result"
    },
    {
     "data": {
      "image/png": "[encoded data removed]",
      "text/plain": [
       "<Figure size 432x288 with 1 Axes>"
      ]
     },
     "metadata": {
      "needs_background": "light"
     },
     "output_type": "display_data"
    }
   ],
   "source": [
    "ax=fit.plot_ccdf(color='r',linewidth=2)\n",
    "fit.exponential.plot_ccdf(color='k',linestyle='--',ax=ax,label='exponential')\n",
    "fit.power_law.plot_ccdf(color='r',linestyle='--',ax=ax,label='power_law')\n",
    "fit.lognormal.plot_ccdf(color='b',linestyle='--',ax=ax,label='lognormal')\n",
    "fit.truncated_power_law.plot_ccdf(color='g',linestyle='--',ax=ax,label='truncated_power_law')\n",
    "plt.legend()"
   ]
  }
 ],
 "metadata": {
  "kernelspec": {
   "display_name": "Python 3",
   "language": "python",
   "name": "python3"
  },
  "language_info": {
   "codemirror_mode": {
    "name": "ipython",
    "version": 3
   },
   "file_extension": ".py",
   "mimetype": "text/x-python",
   "name": "python",
   "nbconvert_exporter": "python",
   "pygments_lexer": "ipython3",
   "version": "3.8.8"
  }
 },
 "nbformat": 4,
 "nbformat_minor": 5
}

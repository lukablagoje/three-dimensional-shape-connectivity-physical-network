{
 "cells": [
  {
   "cell_type": "markdown",
   "id": "60b23a85-3612-47b3-b68b-f3bb846c23e2",
   "metadata": {},
   "source": [
    "# Whole skeleton neuron df queying"
   ]
  },
  {
   "cell_type": "code",
   "execution_count": 115,
   "id": "1ffec06b-636c-4088-af37-a2b488df6766",
   "metadata": {},
   "outputs": [],
   "source": [
    "import pandas as pd\n",
    "import numpy as np\n",
    "import matplotlib.pyplot as plt\n",
    "from scipy.spatial import KDTree\n",
    "import random\n",
    "import timeit\n",
    "from scipy.spatial import distance as dst\n",
    "import itertools\n",
    "import pickle\n",
    "import scipy.stats as stats\n",
    "plt.rcParams['axes.labelsize'] = 16\n",
    "plt.rcParams['axes.titlesize'] = 16\n",
    "import seaborn as sns\n",
    "#sns.set_theme(style=\"whitegrid\")\n",
    "from scipy.stats.stats import pearsonr\n",
    "name_list = ['human_neuron','rat_neuron',\n",
    "            'monkey_neuron','zebrafish_neuron','fruit_fly_2','fruit_fly_3','fruit_fly_1','fruit_fly_4',\n",
    "    'vascular_2','vascular_3','vascular_1','tree','mitochondrial','anthill','root_1','root_2']\n",
    "color_dict = {'root_1':'green','root_2':'olive','mitochondrial':'y','vascular_1':'red','vascular_2':'crimson','vascular_3':'salmon',\n",
    "              'fruit_fly_2':'purple','fruit_fly_3':'pink','tree':'brown','rat_neuron':'lightblue','human_neuron':'blue',\n",
    "              'anthill':'silver','fruit_fly_1':'deeppink','fruit_fly_4':'plum','zebrafish_neuron':'cyan','monkey_neuron':'teal'}\n",
    "plt.rcParams['axes.labelsize'] = 20\n",
    "plt.rcParams['axes.titlesize'] = 20\n",
    "plt.rc('xtick', labelsize=16) \n",
    "plt.rc('ytick', labelsize=16) \n"
   ]
  },
  {
   "cell_type": "code",
   "execution_count": 116,
   "id": "0d2d3605-f396-4cda-996a-65af9822df93",
   "metadata": {},
   "outputs": [
    {
     "ename": "FileNotFoundError",
     "evalue": "[Errno 2] No such file or directory: '1. results_basic_properties/monkey_neuron_basic_results.pkl'",
     "output_type": "error",
     "traceback": [
      "\u001b[0;31m---------------------------------------------------------------------------\u001b[0m",
      "\u001b[0;31mFileNotFoundError\u001b[0m                         Traceback (most recent call last)",
      "\u001b[0;32m/tmp/ipykernel_23643/1016743439.py\u001b[0m in \u001b[0;36m<module>\u001b[0;34m\u001b[0m\n\u001b[1;32m      3\u001b[0m \u001b[0mall_results\u001b[0m \u001b[0;34m=\u001b[0m \u001b[0;34m{\u001b[0m\u001b[0;34m}\u001b[0m\u001b[0;34m\u001b[0m\u001b[0;34m\u001b[0m\u001b[0m\n\u001b[1;32m      4\u001b[0m \u001b[0;32mfor\u001b[0m \u001b[0mname\u001b[0m \u001b[0;32min\u001b[0m \u001b[0mname_list\u001b[0m\u001b[0;34m:\u001b[0m\u001b[0;34m\u001b[0m\u001b[0;34m\u001b[0m\u001b[0m\n\u001b[0;32m----> 5\u001b[0;31m     \u001b[0minfile\u001b[0m \u001b[0;34m=\u001b[0m \u001b[0mopen\u001b[0m\u001b[0;34m(\u001b[0m\u001b[0mpath_source\u001b[0m \u001b[0;34m+\u001b[0m \u001b[0mname\u001b[0m \u001b[0;34m+\u001b[0m\u001b[0;34m'_basic_results.pkl'\u001b[0m\u001b[0;34m,\u001b[0m\u001b[0;34m'rb'\u001b[0m\u001b[0;34m)\u001b[0m\u001b[0;34m\u001b[0m\u001b[0;34m\u001b[0m\u001b[0m\n\u001b[0m\u001b[1;32m      6\u001b[0m     \u001b[0mall_results\u001b[0m\u001b[0;34m[\u001b[0m\u001b[0mname\u001b[0m\u001b[0;34m]\u001b[0m \u001b[0;34m=\u001b[0m \u001b[0mpickle\u001b[0m\u001b[0;34m.\u001b[0m\u001b[0mload\u001b[0m\u001b[0;34m(\u001b[0m\u001b[0minfile\u001b[0m\u001b[0;34m)\u001b[0m\u001b[0;34m\u001b[0m\u001b[0;34m\u001b[0m\u001b[0m\n",
      "\u001b[0;31mFileNotFoundError\u001b[0m: [Errno 2] No such file or directory: '1. results_basic_properties/monkey_neuron_basic_results.pkl'"
     ]
    }
   ],
   "source": [
    "path_source = '1. results_basic_properties/'\n",
    "figure_save_path = '../7. figures/'\n",
    "all_results = {}\n",
    "for name in name_list:\n",
    "    infile = open(path_source + name +'_basic_results.pkl','rb')\n",
    "    all_results[name] = pickle.load(infile)"
   ]
  },
  {
   "cell_type": "code",
   "execution_count": 117,
   "id": "abbc1f0a",
   "metadata": {
    "tags": []
   },
   "outputs": [
    {
     "data": {
      "text/html": [
       "<div>\n",
       "<style scoped>\n",
       "    .dataframe tbody tr th:only-of-type {\n",
       "        vertical-align: middle;\n",
       "    }\n",
       "\n",
       "    .dataframe tbody tr th {\n",
       "        vertical-align: top;\n",
       "    }\n",
       "\n",
       "    .dataframe thead th {\n",
       "        text-align: right;\n",
       "    }\n",
       "</style>\n",
       "<table border=\"1\" class=\"dataframe\">\n",
       "  <thead>\n",
       "    <tr style=\"text-align: right;\">\n",
       "      <th></th>\n",
       "      <th>dataset</th>\n",
       "      <th>segment_length</th>\n",
       "      <th>radius_length</th>\n",
       "      <th>fractal_dimension</th>\n",
       "      <th>number_of_links</th>\n",
       "      <th>number_of_nodes</th>\n",
       "      <th>number_of_segments</th>\n",
       "      <th>density_max</th>\n",
       "    </tr>\n",
       "  </thead>\n",
       "  <tbody>\n",
       "    <tr>\n",
       "      <th>0</th>\n",
       "      <td>human_neuron</td>\n",
       "      <td>1.24 ± 1.29</td>\n",
       "      <td>0.13 ± 0.11</td>\n",
       "      <td>1.62</td>\n",
       "      <td>631</td>\n",
       "      <td>632</td>\n",
       "      <td>41087</td>\n",
       "      <td>0.011318</td>\n",
       "    </tr>\n",
       "    <tr>\n",
       "      <th>1</th>\n",
       "      <td>rat_neuron</td>\n",
       "      <td>2.56 ± 2.2</td>\n",
       "      <td>0.52 ± 0.37</td>\n",
       "      <td>1.73</td>\n",
       "      <td>185</td>\n",
       "      <td>186</td>\n",
       "      <td>4599</td>\n",
       "      <td>0.019410</td>\n",
       "    </tr>\n",
       "  </tbody>\n",
       "</table>\n",
       "</div>"
      ],
      "text/plain": [
       "        dataset segment_length radius_length  fractal_dimension  \\\n",
       "0  human_neuron    1.24 ± 1.29   0.13 ± 0.11               1.62   \n",
       "1    rat_neuron     2.56 ± 2.2   0.52 ± 0.37               1.73   \n",
       "\n",
       "   number_of_links  number_of_nodes  number_of_segments  density_max  \n",
       "0              631              632               41087     0.011318  \n",
       "1              185              186                4599     0.019410  "
      ]
     },
     "execution_count": 117,
     "metadata": {},
     "output_type": "execute_result"
    }
   ],
   "source": [
    "data = {}\n",
    "for name in all_results.keys():\n",
    "    data['dataset'] = []\n",
    "    data['segment_length'] = []\n",
    "    data['radius_length'] = []\n",
    "    data['fractal_dimension'] = []\n",
    "    data['number_of_links'] = []\n",
    "    data['number_of_nodes'] = []\n",
    "    data['number_of_segments'] = []\n",
    "    data['density_max'] = []\n",
    "\n",
    "for name in all_results.keys():\n",
    "    data['dataset'].append(name)\n",
    "    data['segment_length'].append(str(np.round(all_results[name]['mean_segment_length'],2)) + ' \\u00B1 ' + str(np.round(np.std(all_results[name]['segment_length_list']),2)))\n",
    "    data['radius_length'].append(str(np.round(all_results[name]['mean_radius_length'],2)) + ' \\u00B1 ' + str(np.round(np.std(all_results[name]['radius_list']),2)))\n",
    "    data['fractal_dimension'].append(np.round(all_results[name]['fractal_dimension'],2))\n",
    "    data['number_of_links'].append(all_results[name]['number_of_links'])\n",
    "    data['number_of_nodes'].append(all_results[name]['number_of_nodes'])\n",
    "    data['number_of_segments'].append(all_results[name]['number_of_segments'])\n",
    "    data['density_max'].append(all_results[name]['density_max'])\n",
    "df_data = pd.DataFrame(data)\n",
    "df_data"
   ]
  },
  {
   "cell_type": "code",
   "execution_count": 102,
   "id": "c8c92d6d-ad8d-403b-9237-ecf8778d9d61",
   "metadata": {
    "tags": []
   },
   "outputs": [
    {
     "name": "stdout",
     "output_type": "stream",
     "text": [
      "0.01131789195898493\n",
      "0.019409623771278046\n",
      "5.548870846400844\n",
      "41.77414435532677\n",
      "0.3462464819207218\n",
      "0.32020103172542824\n",
      "0.8014185444289647\n",
      "1.2859627925019783\n",
      "0.17461272933690986\n",
      "0.17843294914861876\n",
      "0.6783968461315871\n",
      "0.01224522386538676\n",
      "0.06489653839842784\n",
      "0.2650520853425173\n",
      "0.058472859715560835\n",
      "0.1402029779950737\n"
     ]
    },
    {
     "data": {
      "text/plain": [
       "<Figure size 864x576 with 0 Axes>"
      ]
     },
     "metadata": {},
     "output_type": "display_data"
    },
    {
     "data": {
      "text/plain": [
       "<Figure size 864x576 with 0 Axes>"
      ]
     },
     "metadata": {},
     "output_type": "display_data"
    },
    {
     "data": {
      "text/plain": [
       "<Figure size 864x576 with 0 Axes>"
      ]
     },
     "metadata": {},
     "output_type": "display_data"
    },
    {
     "data": {
      "text/plain": [
       "<Figure size 864x576 with 0 Axes>"
      ]
     },
     "metadata": {},
     "output_type": "display_data"
    },
    {
     "data": {
      "text/plain": [
       "<Figure size 864x576 with 0 Axes>"
      ]
     },
     "metadata": {},
     "output_type": "display_data"
    },
    {
     "data": {
      "text/plain": [
       "<Figure size 864x576 with 0 Axes>"
      ]
     },
     "metadata": {},
     "output_type": "display_data"
    },
    {
     "data": {
      "text/plain": [
       "<Figure size 864x576 with 0 Axes>"
      ]
     },
     "metadata": {},
     "output_type": "display_data"
    },
    {
     "data": {
      "text/plain": [
       "<Figure size 864x576 with 0 Axes>"
      ]
     },
     "metadata": {},
     "output_type": "display_data"
    },
    {
     "data": {
      "text/plain": [
       "<Figure size 864x576 with 0 Axes>"
      ]
     },
     "metadata": {},
     "output_type": "display_data"
    },
    {
     "data": {
      "text/plain": [
       "<Figure size 864x576 with 0 Axes>"
      ]
     },
     "metadata": {},
     "output_type": "display_data"
    },
    {
     "data": {
      "text/plain": [
       "<Figure size 864x576 with 0 Axes>"
      ]
     },
     "metadata": {},
     "output_type": "display_data"
    },
    {
     "data": {
      "text/plain": [
       "<Figure size 864x576 with 0 Axes>"
      ]
     },
     "metadata": {},
     "output_type": "display_data"
    },
    {
     "data": {
      "text/plain": [
       "<Figure size 864x576 with 0 Axes>"
      ]
     },
     "metadata": {},
     "output_type": "display_data"
    },
    {
     "data": {
      "text/plain": [
       "<Figure size 864x576 with 0 Axes>"
      ]
     },
     "metadata": {},
     "output_type": "display_data"
    },
    {
     "data": {
      "text/plain": [
       "<Figure size 864x576 with 0 Axes>"
      ]
     },
     "metadata": {},
     "output_type": "display_data"
    },
    {
     "data": {
      "text/plain": [
       "<Figure size 864x576 with 0 Axes>"
      ]
     },
     "metadata": {},
     "output_type": "display_data"
    }
   ],
   "source": [
    "#plt.figure(figsize=(12,8))\n",
    "all_densities_dict = {}\n",
    "for name in name_list:\n",
    "    plt.figure(figsize=(12,8))\n",
    "    #infile = open(name + \".all_densities.pkl\",'rb')\n",
    "    all_densities = all_results[name]['density_list']\n",
    "    all_densities= np.where(np.isnan(all_densities), 0, all_densities)\n",
    "    all_densities = np.array(all_densities)\n",
    "    #all_densities  = all_densities[all_densities  != 0]\n",
    "    all_densities_dict[name] = np.array(all_densities)\n",
    "    print(np.max( np.array(all_densities)))\n",
    "    #plt.hist(all_densities,label=name,color=color_dict[name],bins=50)\n",
    "    #plt.yscale('log')\n",
    "    #plt.xlim(-0.05,1.05)\n",
    "    #plt.ylim(0,1)\n",
    "    #plt.yscale('log')\n",
    "    #plt.legend()\n",
    "    #plt.xlabel('Local density')\n",
    "    #plt.ylabel('Count')\n",
    "    #plt.savefig(name + \"_densities.svg\", format='svg')"
   ]
  },
  {
   "cell_type": "code",
   "execution_count": 103,
   "id": "073a2db8-ce4a-4076-8cad-883487c03b72",
   "metadata": {},
   "outputs": [
    {
     "data": {
      "text/plain": [
       "array([0.00000000e+00, 0.00000000e+00, 0.00000000e+00, 0.00000000e+00,\n",
       "       0.00000000e+00, 0.00000000e+00, 0.00000000e+00, 0.00000000e+00,\n",
       "       0.00000000e+00, 0.00000000e+00, 0.00000000e+00, 0.00000000e+00,\n",
       "       2.34190877e-03, 2.17115478e-04, 0.00000000e+00, 1.03182631e-03,\n",
       "       9.81423381e-04, 0.00000000e+00, 4.43489659e-05, 0.00000000e+00,\n",
       "       0.00000000e+00, 0.00000000e+00, 0.00000000e+00, 0.00000000e+00,\n",
       "       0.00000000e+00, 0.00000000e+00, 0.00000000e+00, 0.00000000e+00,\n",
       "       0.00000000e+00, 0.00000000e+00, 0.00000000e+00, 0.00000000e+00,\n",
       "       0.00000000e+00, 0.00000000e+00, 0.00000000e+00, 0.00000000e+00,\n",
       "       0.00000000e+00, 7.00305966e-05, 0.00000000e+00, 0.00000000e+00,\n",
       "       1.06876285e-04, 0.00000000e+00, 2.90352927e-02, 1.46395349e-02,\n",
       "       0.00000000e+00, 2.32408049e-02, 2.16458472e-03, 0.00000000e+00,\n",
       "       1.40978172e-03, 1.00195169e-03, 6.22248030e-05, 6.04934893e-03,\n",
       "       9.13624903e-05, 0.00000000e+00, 0.00000000e+00, 0.00000000e+00,\n",
       "       0.00000000e+00, 0.00000000e+00, 0.00000000e+00, 0.00000000e+00,\n",
       "       0.00000000e+00, 0.00000000e+00, 0.00000000e+00, 0.00000000e+00,\n",
       "       0.00000000e+00, 0.00000000e+00, 0.00000000e+00, 1.32374786e-03,\n",
       "       0.00000000e+00, 2.07503277e-03, 1.62208879e-03, 0.00000000e+00,\n",
       "       3.10792367e-03, 7.74747652e-03, 2.13980479e-03, 8.16482641e-02,\n",
       "       3.60373688e-03, 2.42619280e-04, 9.65738902e-02, 2.42290103e-02,\n",
       "       4.14329799e-03, 1.05357444e-02, 4.25930090e-03, 2.13126091e-03,\n",
       "       1.75953761e-02, 8.16114595e-04, 3.13957665e-05, 1.05818099e-02,\n",
       "       5.87645632e-06, 0.00000000e+00, 0.00000000e+00, 0.00000000e+00,\n",
       "       0.00000000e+00, 0.00000000e+00, 0.00000000e+00, 0.00000000e+00,\n",
       "       0.00000000e+00, 0.00000000e+00, 0.00000000e+00, 0.00000000e+00,\n",
       "       0.00000000e+00, 6.22497528e-04, 3.15069530e-03, 1.49416894e-03,\n",
       "       2.35506498e-03, 1.40202978e-01, 3.02623535e-02, 2.12469855e-02,\n",
       "       3.98407735e-02, 5.17012698e-03, 2.63842745e-03, 1.72792475e-02,\n",
       "       1.03894056e-03, 5.39925161e-04, 1.86697632e-04, 3.50907094e-05,\n",
       "       0.00000000e+00, 0.00000000e+00, 0.00000000e+00, 0.00000000e+00,\n",
       "       0.00000000e+00, 8.69519918e-04, 0.00000000e+00, 0.00000000e+00,\n",
       "       0.00000000e+00, 0.00000000e+00, 0.00000000e+00, 0.00000000e+00,\n",
       "       0.00000000e+00, 7.10559666e-04, 0.00000000e+00, 9.16059174e-04,\n",
       "       2.62599671e-03, 9.78401551e-04, 6.98807958e-03, 8.49306976e-02,\n",
       "       1.03697799e-02, 1.03776867e-02, 4.94123522e-02, 1.10233634e-02,\n",
       "       1.15813303e-03, 7.00728490e-04, 8.93168590e-04, 9.43377266e-05,\n",
       "       0.00000000e+00, 0.00000000e+00, 0.00000000e+00, 0.00000000e+00,\n",
       "       0.00000000e+00, 0.00000000e+00, 0.00000000e+00, 8.51820731e-05,\n",
       "       0.00000000e+00, 0.00000000e+00, 1.08636564e-03, 0.00000000e+00,\n",
       "       1.42968140e-04, 8.75876149e-04, 0.00000000e+00, 1.02083066e-03,\n",
       "       2.23764804e-04, 0.00000000e+00, 2.14592999e-03, 0.00000000e+00,\n",
       "       0.00000000e+00, 2.57076741e-03, 4.70650029e-04, 6.72125490e-05,\n",
       "       5.10974117e-03, 2.51591046e-04, 6.51480806e-05, 3.85559443e-03,\n",
       "       1.29611839e-04, 0.00000000e+00, 3.19398328e-04, 0.00000000e+00,\n",
       "       0.00000000e+00, 0.00000000e+00, 0.00000000e+00, 0.00000000e+00,\n",
       "       0.00000000e+00, 0.00000000e+00, 0.00000000e+00, 0.00000000e+00,\n",
       "       0.00000000e+00, 0.00000000e+00, 0.00000000e+00, 0.00000000e+00,\n",
       "       0.00000000e+00, 0.00000000e+00, 0.00000000e+00, 0.00000000e+00,\n",
       "       1.10050255e-03, 2.14539308e-03, 0.00000000e+00, 2.62533238e-04,\n",
       "       9.67155233e-05, 0.00000000e+00, 1.92554758e-03, 3.45799154e-04,\n",
       "       0.00000000e+00, 0.00000000e+00, 0.00000000e+00, 0.00000000e+00,\n",
       "       0.00000000e+00, 0.00000000e+00, 0.00000000e+00, 0.00000000e+00,\n",
       "       0.00000000e+00, 0.00000000e+00])"
      ]
     },
     "execution_count": 103,
     "metadata": {},
     "output_type": "execute_result"
    }
   ],
   "source": [
    "all_densities"
   ]
  },
  {
   "cell_type": "code",
   "execution_count": 108,
   "id": "6fd52a4c-dbfe-4c58-9dcd-74938c34f363",
   "metadata": {},
   "outputs": [
    {
     "data": {
      "image/png": "[encoded data removed]",
      "text/plain": [
       "<Figure size 864x864 with 16 Axes>"
      ]
     },
     "metadata": {
      "needs_background": "light"
     },
     "output_type": "display_data"
    }
   ],
   "source": [
    "fig, axs = plt.subplots(4, 4, figsize=(12, 12),gridspec_kw={'hspace': 0.1, 'wspace': 0.1})\n",
    "#fig.suptitle('Local density distribution')\n",
    "#['vascular_1','tree','mouse_brain','mitochondrial','anthill','root_1','root_2','fruit_fly_2','fruit_fly_3','human_brain']\n",
    "\n",
    "ij_name_dict = {'root_1':(0,0),'root_2':(0,1),'tree':(0,2),'anthill':(0,3)\n",
    "                ,'salamander_neuron':(1,0),'bat_neuron':(1,1),'rat_neuron':(1,2), 'human_neuron':(1,3)\n",
    "                ,'vascular_1':(2,0),'vascular_2':(2,1),'vascular_3':(2,2),'mitochondrial':(2,3)\n",
    "                ,'fruit_fly_1':(3,0),'fruit_fly_2':(3,1),'fruit_fly_3':(3,2),'fruit_fly_4':(3,3)}\n",
    "for name in name_list:\n",
    "    \n",
    "    axs[ij_name_dict[name][0]][ij_name_dict[name][1]].hist(all_densities_dict[name],color = color_dict[name],label=name,alpha=1,bins = np.arange(0,1.1,0.1))\n",
    "    #lt.xlabel('Link mean number of intersections')\n",
    "    axs[ij_name_dict[name][0]][ij_name_dict[name][1]].set_yscale('log')\n",
    "    axs[ij_name_dict[name][0]][ij_name_dict[name][1]].set_xlim(-0.025,1.025)\n",
    "    axs[ij_name_dict[name][0]][ij_name_dict[name][1]].set_ylim(1,12000)\n",
    "    #axs[ij_name_dict[name][0]][ij_name_dict[name][1]].axvline(np.mean(all_densities_dict[name]),color='black',linestyle='dashed')#,label = 'mean')\n",
    "    axs[ij_name_dict[name][0]][ij_name_dict[name][1]].legend()\n",
    "    \n",
    "for ax in axs.flat:\n",
    "    ax.label_outer()\n",
    "\n",
    "\n",
    "#plt.savefig('density_distribution.svg', format='svg')\n"
   ]
  },
  {
   "cell_type": "markdown",
   "id": "e884c03e-c119-4693-8ecb-5066130a79cb",
   "metadata": {},
   "source": [
    "# Complementary straightness"
   ]
  },
  {
   "cell_type": "code",
   "execution_count": 105,
   "id": "ae89fe45-786e-4a27-bac7-298b6a769198",
   "metadata": {},
   "outputs": [
    {
     "data": {
      "text/plain": [
       "<Figure size 864x576 with 0 Axes>"
      ]
     },
     "metadata": {},
     "output_type": "display_data"
    },
    {
     "data": {
      "text/plain": [
       "<Figure size 864x576 with 0 Axes>"
      ]
     },
     "metadata": {},
     "output_type": "display_data"
    },
    {
     "data": {
      "text/plain": [
       "<Figure size 864x576 with 0 Axes>"
      ]
     },
     "metadata": {},
     "output_type": "display_data"
    },
    {
     "data": {
      "text/plain": [
       "<Figure size 864x576 with 0 Axes>"
      ]
     },
     "metadata": {},
     "output_type": "display_data"
    },
    {
     "data": {
      "text/plain": [
       "<Figure size 864x576 with 0 Axes>"
      ]
     },
     "metadata": {},
     "output_type": "display_data"
    },
    {
     "data": {
      "text/plain": [
       "<Figure size 864x576 with 0 Axes>"
      ]
     },
     "metadata": {},
     "output_type": "display_data"
    },
    {
     "data": {
      "text/plain": [
       "<Figure size 864x576 with 0 Axes>"
      ]
     },
     "metadata": {},
     "output_type": "display_data"
    },
    {
     "data": {
      "text/plain": [
       "<Figure size 864x576 with 0 Axes>"
      ]
     },
     "metadata": {},
     "output_type": "display_data"
    },
    {
     "data": {
      "text/plain": [
       "<Figure size 864x576 with 0 Axes>"
      ]
     },
     "metadata": {},
     "output_type": "display_data"
    },
    {
     "data": {
      "text/plain": [
       "<Figure size 864x576 with 0 Axes>"
      ]
     },
     "metadata": {},
     "output_type": "display_data"
    },
    {
     "data": {
      "text/plain": [
       "<Figure size 864x576 with 0 Axes>"
      ]
     },
     "metadata": {},
     "output_type": "display_data"
    },
    {
     "data": {
      "text/plain": [
       "<Figure size 864x576 with 0 Axes>"
      ]
     },
     "metadata": {},
     "output_type": "display_data"
    },
    {
     "data": {
      "text/plain": [
       "<Figure size 864x576 with 0 Axes>"
      ]
     },
     "metadata": {},
     "output_type": "display_data"
    },
    {
     "data": {
      "text/plain": [
       "<Figure size 864x576 with 0 Axes>"
      ]
     },
     "metadata": {},
     "output_type": "display_data"
    },
    {
     "data": {
      "text/plain": [
       "<Figure size 864x576 with 0 Axes>"
      ]
     },
     "metadata": {},
     "output_type": "display_data"
    },
    {
     "data": {
      "text/plain": [
       "<Figure size 864x576 with 0 Axes>"
      ]
     },
     "metadata": {},
     "output_type": "display_data"
    }
   ],
   "source": [
    "#plt.figure(figsize=(12,8))\n",
    "c_straightness_dict = {}\n",
    "for name in name_list:\n",
    "    plt.figure(figsize=(12,8))\n",
    "    #infile = open(name + \".c_straightness.pkl\",'rb')\n",
    "    #c_straightness = pickle.load(infile) \n",
    "    c_straightness = all_results[name]['c_straightness'].values()\n",
    "    c_straightness_dict[name] =list(all_results[name]['c_straightness'].values())\n",
    "    #plt.hist(c_straightness,label=name,density=True,color = color_dict[name])\n",
    "    #plt.xlim(-0.05,1.05)\n",
    "    #plt.yscale('log')\n",
    "    ##plt.ylim(0,1)\n",
    "    #plt.legend()\n",
    "    #plt.xlabel('Complementary straightness')\n",
    "    #plt.ylabel('Count')\n",
    "    #plt.savefig(name +'_c_straightness.svg', format='svg')"
   ]
  },
  {
   "cell_type": "code",
   "execution_count": 112,
   "id": "2a3f3476-5262-43c3-b703-7443149f4caf",
   "metadata": {},
   "outputs": [
    {
     "data": {
      "image/png": "[encoded data removed]",
      "text/plain": [
       "<Figure size 864x864 with 16 Axes>"
      ]
     },
     "metadata": {
      "needs_background": "light"
     },
     "output_type": "display_data"
    }
   ],
   "source": [
    "fig, axs = plt.subplots(4, 4, figsize=(12, 12),gridspec_kw={'hspace': 0.1, 'wspace': 0.1})\n",
    "#fig.suptitle('Local density distribution')\n",
    "#['vascular_1','tree','mouse_brain','mitochondrial','anthill','root_1','root_2','fruit_fly_2','fruit_fly_3','human_brain']\n",
    "\n",
    "ij_name_dict = {'root_1':(0,0),'root_2':(0,1),'tree':(0,2),'anthill':(0,3)\n",
    "                ,'salamander_neuron':(1,0),'bat_neuron':(1,1),'rat_neuron':(1,2), 'human_neuron':(1,3)\n",
    "                ,'vascular_1':(2,0),'vascular_2':(2,1),'vascular_3':(2,2),'mitochondrial':(2,3)\n",
    "                ,'fruit_fly_1':(3,0),'fruit_fly_2':(3,1),'fruit_fly_3':(3,2),'fruit_fly_4':(3,3)}\n",
    "for name in name_list:\n",
    "    \n",
    "    axs[ij_name_dict[name][0]][ij_name_dict[name][1]].hist(c_straightness_dict[name],color = color_dict[name],label=name,alpha=1,bins = np.arange(0,1.1,0.1))\n",
    "    #lt.xlabel('Link mean number of intersections')\n",
    "    labels = axs[ij_name_dict[name][0]][ij_name_dict[name][1]].get_xticklabels()\n",
    "    axs[ij_name_dict[name][0]][ij_name_dict[name][1]].set_xticks([0,0.5,1]) \n",
    "    axs[ij_name_dict[name][0]][ij_name_dict[name][1]].set_xticklabels([0,0.5,1])\n",
    "    #axs[ij_name_dict[name][0]][ij_name_dict[name][1]].xticks([0,1])\n",
    "    axs[ij_name_dict[name][0]][ij_name_dict[name][1]].set_yscale('log')\n",
    "    axs[ij_name_dict[name][0]][ij_name_dict[name][1]].set_xlim(-0.025,1.025)\n",
    "    axs[ij_name_dict[name][0]][ij_name_dict[name][1]].set_ylim(1,100000)\n",
    "    axs[ij_name_dict[name][0]][ij_name_dict[name][1]].legend()\n",
    "    #axs[ij_name_dict[name][0]][ij_name_dict[name][1]].axvline(np.mean(c_straightness_dict[name]),color='black',linestyle='dashed')\n",
    "for ax in axs.flat:\n",
    "    ax.label_outer()\n",
    "\n",
    "#plt.xlabel('Complementary straightness')\n",
    "plt.savefig(figure_save_path +'c_straightness.pdf', format='pdf',dpi=1200)\n",
    "plt.savefig('c_straightness.pdf', format='pdf',dpi=1200)"
   ]
  },
  {
   "cell_type": "code",
   "execution_count": 118,
   "id": "10e63ca9-a8c4-4002-b991-220639527028",
   "metadata": {},
   "outputs": [
    {
     "name": "stdout",
     "output_type": "stream",
     "text": [
      "**** Network: monkey_neuron\n",
      "Starting computation\n",
      "Skeleton multiplication\n"
     ]
    },
    {
     "name": "stderr",
     "output_type": "stream",
     "text": [
      "/tmp/ipykernel_23643/1265227071.py:190: RuntimeWarning: divide by zero encountered in double_scalars\n",
      "  ratio = point_to_point_dist/ (cube_side)\n"
     ]
    },
    {
     "ename": "OverflowError",
     "evalue": "cannot convert float infinity to integer",
     "output_type": "error",
     "traceback": [
      "\u001b[0;31m---------------------------------------------------------------------------\u001b[0m",
      "\u001b[0;31mOverflowError\u001b[0m                             Traceback (most recent call last)",
      "\u001b[0;32m/tmp/ipykernel_23643/1265227071.py\u001b[0m in \u001b[0;36m<module>\u001b[0;34m\u001b[0m\n\u001b[1;32m    190\u001b[0m         \u001b[0mratio\u001b[0m \u001b[0;34m=\u001b[0m \u001b[0mpoint_to_point_dist\u001b[0m\u001b[0;34m/\u001b[0m \u001b[0;34m(\u001b[0m\u001b[0mcube_side\u001b[0m\u001b[0;34m)\u001b[0m\u001b[0;34m\u001b[0m\u001b[0;34m\u001b[0m\u001b[0m\n\u001b[1;32m    191\u001b[0m         \u001b[0;32mif\u001b[0m \u001b[0mratio\u001b[0m \u001b[0;34m>\u001b[0m \u001b[0;36m0.05\u001b[0m\u001b[0;34m:\u001b[0m\u001b[0;34m\u001b[0m\u001b[0;34m\u001b[0m\u001b[0m\n\u001b[0;32m--> 192\u001b[0;31m             \u001b[0mmultiplication_factor\u001b[0m \u001b[0;34m=\u001b[0m \u001b[0mint\u001b[0m\u001b[0;34m(\u001b[0m\u001b[0mnp\u001b[0m\u001b[0;34m.\u001b[0m\u001b[0mceil\u001b[0m\u001b[0;34m(\u001b[0m\u001b[0mratio\u001b[0m\u001b[0;34m)\u001b[0m\u001b[0;34m)\u001b[0m \u001b[0;34m+\u001b[0m \u001b[0;36m10\u001b[0m\u001b[0;34m\u001b[0m\u001b[0;34m\u001b[0m\u001b[0m\n\u001b[0m\u001b[1;32m    193\u001b[0m            \u001b[0;31m# print('Multiplying skeleton',multiplying_factor )\u001b[0m\u001b[0;34m\u001b[0m\u001b[0;34m\u001b[0m\u001b[0m\n\u001b[1;32m    194\u001b[0m             \u001b[0mnew_points\u001b[0m \u001b[0;34m=\u001b[0m \u001b[0mcreate_line_point_radii_list\u001b[0m\u001b[0;34m(\u001b[0m\u001b[0mstart_point\u001b[0m\u001b[0;34m,\u001b[0m \u001b[0mend_point\u001b[0m\u001b[0;34m,\u001b[0m \u001b[0mradius_start\u001b[0m\u001b[0;34m,\u001b[0m\u001b[0mradius_end\u001b[0m\u001b[0;34m,\u001b[0m\u001b[0mmultiplication_factor\u001b[0m\u001b[0;34m)\u001b[0m\u001b[0;34m\u001b[0m\u001b[0;34m\u001b[0m\u001b[0m\n",
      "\u001b[0;31mOverflowError\u001b[0m: cannot convert float infinity to integer"
     ]
    }
   ],
   "source": [
    "import pickle\n",
    "import numpy as np\n",
    "import pandas as pd\n",
    "import matplotlib.pyplot as plt\n",
    "plt.rcParams['axes.labelsize'] = 16\n",
    "plt.rcParams['axes.titlesize'] = 16\n",
    "import ast\n",
    "import seaborn as sns\n",
    "from scipy.stats import linregress\n",
    "#sns.set_theme(style=\"whitegrid\")\n",
    "import math\n",
    "from scipy.spatial import distance as dst\n",
    "\n",
    "def create_line_point_list(start_point, end_point, density):\n",
    "\n",
    "    parameter_list = np.linspace(0,1,density)\n",
    "    line_point_list = []\n",
    "\n",
    "    for t in parameter_list:\n",
    "            x = (end_point[0] - start_point[0]) * t + start_point[0]\n",
    "            y = (end_point[1] - start_point[1]) * t + start_point[1]\n",
    "            z = (end_point[2] - start_point[2]) * t + start_point[2]\n",
    "            line_point_list.append([x, y, z])\n",
    "def create_line_point_radii_list(start_point, end_point,radius_start,radius_end,density):\n",
    "\n",
    "    parameter_list = np.linspace(0,1,density)\n",
    "    line_point_list = []\n",
    "\n",
    "    for t in parameter_list:\n",
    "            x = (end_point[0] - start_point[0]) * t + start_point[0]\n",
    "            y = (end_point[1] - start_point[1]) * t + start_point[1]\n",
    "            z = (end_point[2] - start_point[2]) * t + start_point[2]\n",
    "            radius = (radius_end - radius_start) * t + radius_start\n",
    "            line_point_list.append([x, y, z,radius])\n",
    "\n",
    "    return line_point_list\n",
    "\n",
    "def create_line_point_list(start_point, end_point, density):\n",
    "\n",
    "    parameter_list = np.linspace(0,1,density)\n",
    "    line_point_list = []\n",
    "\n",
    "    for t in parameter_list:\n",
    "            x = (end_point[0] - start_point[0]) * t + start_point[0]\n",
    "            y = (end_point[1] - start_point[1]) * t + start_point[1]\n",
    "            z = (end_point[2] - start_point[2]) * t + start_point[2]\n",
    "            line_point_list.append([x, y, z])\n",
    "\n",
    "    return line_point_list\n",
    "\n",
    "\n",
    "def create_thick_line_point_list(start_point,orientation_point,distance_between_circles,radius_1,radius_2):\n",
    "    distance = np.sqrt((orientation_point[0]-start_point[0])**2 +(orientation_point[1]-start_point[1])**2 +(orientation_point[2]-start_point[2])**2)\n",
    "    number_of_points =  np.max([int(distance/distance_between_circles),2])\n",
    "    #number_of_points = density\n",
    "    if radius_1 == 0 and radius_2 == 0:\n",
    "        line_point_list = create_line_point_list(start_point,orientation_point,number_of_points)\n",
    "        return line_point_list \n",
    "    else:\n",
    "        line_point_list = create_line_point_list(start_point,orientation_point,number_of_points)\n",
    "        thick_points_list = []\n",
    "        k = np.array([orientation_point[0]-start_point[0], orientation_point[1]-start_point[1] ,orientation_point[2]-start_point[2] ],dtype = float )\n",
    "        k /= np.linalg.norm(k)\n",
    "        x = np.random.randn(3)  # take a random vector\n",
    "        x -= x.dot(k) * k       # make it orthogonal to k\n",
    "        x /= np.linalg.norm(x)  # normalize it\n",
    "        y = np.cross(k, x)\n",
    "        for i, center_point in enumerate(line_point_list):\n",
    "                parameter = i/len(line_point_list)\n",
    "                radius = (radius_2 - radius_1) * parameter + radius_1\n",
    "                n_vertices =  np.max([math.ceil(2 * radius * np.pi/ distance_between_circles),3])\n",
    "                circle_point_list = []\n",
    "                for j in range(0,n_vertices):\n",
    "                    angle = (j / n_vertices) * 2 * np.pi\n",
    "\n",
    "                    circle_x = center_point[0] + radius * np.cos(angle)*x[0] +  radius * np.sin(angle)*y[0]#* np.cos(incline_angle)\n",
    "                    circle_y = center_point[1] + radius * np.cos(angle)*x[1] +  radius * np.sin(angle)*y[1]\n",
    "                    circle_z = center_point[2] + radius * np.cos(angle)*x[2] +  radius * np.sin(angle)*y[2]\n",
    "\n",
    "                    v = [circle_x,circle_y, circle_z]\n",
    "                    #circle_point_list.append(v)\n",
    "                    thick_points_list.append(v)\n",
    "\n",
    "        if radius_1 > distance_between_circles:\n",
    "            thick_points_list.append(start_point)\n",
    "        if radius_2 > distance_between_circles:\n",
    "            thick_points_list.append(orientation_point)\n",
    "\n",
    "        if 2 * radius_1 > distance_between_circles:\n",
    "            number_of_inner_circles = np.max([math.ceil( 2 * radius_1 / distance_between_circles),3])\n",
    "            inner_radius_list = [radius_1 * parameter for parameter in np.linspace(0,1, number_of_inner_circles)[1:-1]]\n",
    "\n",
    "            for inner_radius in inner_radius_list:\n",
    "                center_point = start_point\n",
    "                radius = inner_radius\n",
    "                n_vertices =  np.max([math.ceil(2 * radius * np.pi/ distance_between_circles),3])\n",
    "                circle_point_list = []\n",
    "                for j in range(0,n_vertices):\n",
    "                    angle = (j / n_vertices) * 2 * np.pi\n",
    "\n",
    "                    circle_x = center_point[0] + radius * np.cos(angle)*x[0] +  radius * np.sin(angle)*y[0]#* np.cos(incline_angle)\n",
    "                    circle_y = center_point[1] + radius * np.cos(angle)*x[1] +  radius * np.sin(angle)*y[1]\n",
    "                    circle_z = center_point[2] + radius * np.cos(angle)*x[2] +  radius * np.sin(angle)*y[2]\n",
    "\n",
    "                    v = [circle_x,circle_y, circle_z]\n",
    "                    #circle_point_list.append(v)\n",
    "                    thick_points_list.append(v)\n",
    "        if 2 * radius_2 > distance_between_circles:\n",
    "            number_of_inner_circles = np.max([math.ceil( 2 * radius_2 / distance_between_circles),3])\n",
    "            inner_radius_list = [radius_2 * parameter for parameter in np.linspace(0,1, number_of_inner_circles)[1:-1]]\n",
    "            for inner_radius in inner_radius_list:\n",
    "                center_point = orientation_point\n",
    "                radius = inner_radius\n",
    "                n_vertices =  np.max([math.ceil(2 * radius * np.pi/ distance_between_circles),3])\n",
    "                circle_point_list = []\n",
    "                for j in range(0,n_vertices):\n",
    "                    angle = (j / n_vertices) * 2 * np.pi\n",
    "\n",
    "                    circle_x = center_point[0] + radius * np.cos(angle)*x[0] +  radius * np.sin(angle)*y[0]#* np.cos(incline_angle)\n",
    "                    circle_y = center_point[1] + radius * np.cos(angle)*x[1] +  radius * np.sin(angle)*y[1]\n",
    "                    circle_z = center_point[2] + radius * np.cos(angle)*x[2] +  radius * np.sin(angle)*y[2]\n",
    "\n",
    "                    v = [circle_x,circle_y, circle_z]\n",
    "                    #circle_point_list.append(v)\n",
    "                    thick_points_list.append(v)\n",
    "\n",
    "        return thick_points_list + line_point_list \n",
    "    \n",
    "def bounding_box_from_merged_skeleton(merged_skeleton_dataset):\n",
    "    x_min = np.min([np.min(merged_skeleton_dataset['x_1']),np.min(merged_skeleton_dataset['x_2'])])\n",
    "    x_max = np.max([np.max(merged_skeleton_dataset['x_1']),np.max(merged_skeleton_dataset['x_2'])])\n",
    "\n",
    "    y_min = np.min([np.min(merged_skeleton_dataset['y_1']),np.min(merged_skeleton_dataset['y_2'])])\n",
    "    y_max = np.max([np.max(merged_skeleton_dataset['y_1']),np.max(merged_skeleton_dataset['y_2'])])\n",
    "\n",
    "    z_min = np.min([np.min(merged_skeleton_dataset['z_1']),np.min(merged_skeleton_dataset['z_2'])])\n",
    "    z_max = np.max([np.max(merged_skeleton_dataset['z_1']),np.max(merged_skeleton_dataset['z_2'])])\n",
    "\n",
    "    return [x_min,x_max,y_min,y_max,z_min,z_max]\n",
    "\n",
    "name_list =['monkey_neuron']\n",
    "final_results ={}\n",
    "for name in name_list:\n",
    "    print('**** Network:',name)\n",
    "    print('Starting computation')\n",
    "    final_results[name] = {}\n",
    "    path = '../1. data/5. skeleton_resolution/'\n",
    "    skeleton_paths = pd.read_csv(path +  name+ '.paths.csv',index_col=[0])\n",
    "    skeleton_paths.drop_duplicates(inplace=True)\n",
    "    \n",
    "    bounds = bounding_box_from_merged_skeleton(skeleton_paths)\n",
    "    bounding_box_volume = abs(bounds[0] - bounds[1]) * abs(bounds[2] - bounds[3]) * abs(bounds[4] - bounds[5])\n",
    "    longest_side = np.max([abs(bounds[0] - bounds[1]),abs(bounds[2] - bounds[3]),abs(bounds[4] - bounds[5])])\n",
    "    shortest_side = np.min([abs(bounds[0] - bounds[1]),abs(bounds[2] - bounds[3]),abs(bounds[4] - bounds[5])])\n",
    "    skeleton_paths['distance'] = np.sqrt((skeleton_paths['x_2']-  skeleton_paths['x_1'])**2 +  \n",
    "                                               (skeleton_paths['y_2']-  skeleton_paths['y_1'])**2 +\n",
    "                                               (skeleton_paths['z_2']-  skeleton_paths['z_1'])**2 )\n",
    "    skeleton_paths['volume'] = 1/3 * np.pi * (skeleton_paths['radius_1']**2 + skeleton_paths['radius_2']**2 +    skeleton_paths['radius_1']*skeleton_paths['radius_2'])*skeleton_paths['distance']\n",
    "    skeleton_paths_original = skeleton_paths.copy()\n",
    "    final_results[name]['mean_segment_length'] = np.mean(skeleton_paths['distance'])\n",
    "    final_results[name]['segment_length_list'] = skeleton_paths['distance'].values\n",
    "    final_results[name]['mean_radius_length'] = np.mean(skeleton_paths['radius_1'])\n",
    "    final_results[name]['radius_list'] = skeleton_paths['radius_1'].values\n",
    "    final_results[name]['mean_segment_over_bounding_box_average_length'] = np.mean(skeleton_paths['distance'])/(np.mean([abs(bounds[0] - bounds[1]),\n",
    "                                                                                                                          abs(bounds[2] - bounds[3]),\n",
    "                                                                                                                          abs(bounds[4] - bounds[5])]))\n",
    "    #print('Computing fractal dimension')\n",
    "    #cube_side = np.max([skeleton_paths['distance'].max(),skeleton_paths['radius_1'].max()*2,skeleton_paths['radius_2'].max()*2])\n",
    "    cube_side =  shortest_side *0.33\n",
    "    #if name == 'fruit_fly_2' or name == 'fruit_fly_3' or name == 'human_brain':\n",
    "    #    cube_side = np.max([skeleton_paths['distance'].max(),skeleton_paths['radius_1'].max()*2,skeleton_paths['radius_2'].max()*2])/10\n",
    "    #This is for fruitfly\n",
    "    #cube_side_list = [cube_side/20,cube_side/10,cube_side/5]\n",
    "    #cube_side = np.max([skeleton_paths['distance'].mean(),skeleton_paths['radius_1'].mean()*2,skeleton_paths['radius_2'].mean()*2]) * 10\n",
    "    cube_side_list = [cube_side * 0.1,cube_side* 0.25,cube_side]\n",
    "    segment_resolution = np.min([skeleton_paths['distance'].mean(),skeleton_paths['radius_1'].mean(),skeleton_paths['radius_2'].mean()])/2\n",
    "    final_results[name]['cube_side'] = cube_side\n",
    "    final_results[name]['segment_resolution_distance'] = segment_resolution\n",
    "    \n",
    "\n",
    "    \n",
    "    print('Skeleton multiplication')\n",
    "    multiplied_skeleton_part_merged = []\n",
    "    for row in skeleton_paths[['pt_id_1','x_1','y_1','z_1','radius_1','pt_id_2','x_2','y_2','z_2','radius_2']].values:\n",
    "        start_point = row[1:4]\n",
    "        radius_start = row[4]\n",
    "        end_point = row[6:9]\n",
    "        radius_end = row[9]\n",
    "        point_to_point_dist = dst.euclidean(start_point,end_point)\n",
    "        ratio = point_to_point_dist/ (cube_side)\n",
    "        if ratio > 0.05:\n",
    "            multiplication_factor = int(np.ceil(ratio)) + 10\n",
    "           # print('Multiplying skeleton',multiplying_factor )\n",
    "            new_points = create_line_point_radii_list(start_point, end_point, radius_start,radius_end,multiplication_factor)\n",
    "            for i in range(0,multiplication_factor-1):\n",
    "                multiplied_skeleton_part_merged += [list(new_points[i])+list(new_points[i+1])]\n",
    "        else:\n",
    "            new_row = [list(start_point) + [radius_start] + list(end_point) + [radius_end]]\n",
    "            multiplied_skeleton_part_merged += new_row \n",
    "\n",
    "    multiplied_skeleton = pd.DataFrame(multiplied_skeleton_part_merged,columns=['x_1','y_1','z_1','radius_1','x_2','y_2','z_2','radius_2'])\n",
    "    skeleton_paths = multiplied_skeleton.copy()\n",
    "    print('Skeleton multiplication complete')\n",
    "    \n",
    "    point_cloud_list = []\n",
    "    for i,row in enumerate(skeleton_paths[['x_1','y_1','z_1','radius_1','x_2','y_2','z_2','radius_2']].values):\n",
    "        print( 'Computing fractal dimension',i,len(skeleton_paths))\n",
    "        start_point = row[0:3]\n",
    "        radius_start = row[3]\n",
    "        end_point = row[4:7]\n",
    "        radius_end = row[7]\n",
    "        point_cloud_list += create_thick_line_point_list(start_point,end_point,segment_resolution, radius_start,radius_end)\n",
    "    point_cloud_skeleton_paths  = pd.DataFrame(point_cloud_list,columns=['x','y','z'])\n",
    "    sample_fraction = 1\n",
    "    point_cloud_skeleton_paths = point_cloud_skeleton_paths.sample(frac=sample_fraction)\n",
    "    \n",
    "    \n",
    "    filled_boxes_count_list = []\n",
    "    number_of_segments_used_list = []\n",
    "    for cube_side in cube_side_list:\n",
    "        print('Cube side ratio:',cube_side/longest_side)\n",
    "        x_axis = np.arange(bounds[0],bounds[1],cube_side)\n",
    "        y_axis = np.arange(bounds[2],bounds[3],cube_side)\n",
    "        z_axis = np.arange(bounds[4],bounds[5],cube_side)\n",
    "        number_of_segments_used = 0\n",
    "        filled_boxes_count = 0\n",
    "        empty_boxes_count = 0\n",
    "        box_count = 0\n",
    "        cube_dict = {}\n",
    "        for i in range(len(x_axis)-1):\n",
    "                print(i,len(x_axis))\n",
    "                box_count += 1\n",
    "                for j in range(len(y_axis)-1):\n",
    "                            for k in range(len(z_axis)-1):\n",
    "                                if len(point_cloud_skeleton_paths[(point_cloud_skeleton_paths['x'] > x_axis[i]) & \n",
    "                                                            (point_cloud_skeleton_paths['x'] < x_axis[i+1]) &\n",
    "                                                            (point_cloud_skeleton_paths['y'] > y_axis[j]) &\n",
    "                                                            (point_cloud_skeleton_paths['y'] < y_axis[j+1]) &\n",
    "                                                            (point_cloud_skeleton_paths['z'] > z_axis[k]) &\n",
    "                                                            (point_cloud_skeleton_paths['z'] < z_axis[k+1])]) == 0:\n",
    "                                    empty_boxes_count += 1\n",
    "                                else:\n",
    "                                    filled_boxes_count += 1\n",
    "        filled_boxes_count_list.append(filled_boxes_count)\n",
    "    fractal_dimension =  -linregress(np.log(cube_side_list),np.log(filled_boxes_count_list))[0]\n",
    "    final_results[name]['fractal_dimension'] = np.round(fractal_dimension,3)\n",
    "    with open(\"1. results_basic_properties/\"+name + \"_basic_results.pkl\", \"wb\") as h:\n",
    "           pickle.dump(final_results[name], h)    \n",
    "            \n",
    "            \n",
    "    print('Computing density')\n",
    "\n",
    "    skeleton_paths['distance'] = np.sqrt((skeleton_paths['x_2']-  skeleton_paths['x_1'])**2 +  \n",
    "                                               (skeleton_paths['y_2']-  skeleton_paths['y_1'])**2 +\n",
    "                                               (skeleton_paths['z_2']-  skeleton_paths['z_1'])**2 )\n",
    "    skeleton_paths['volume'] = 1/3 * np.pi * (skeleton_paths['radius_1']**2 + skeleton_paths['radius_2']**2 +    skeleton_paths['radius_1']*skeleton_paths['radius_2'])*skeleton_paths['distance']\n",
    "    \n",
    "    \n",
    "    x_axis = np.arange(bounds[0],bounds[1],cube_side)\n",
    "    y_axis = np.arange(bounds[2],bounds[3],cube_side)\n",
    "    z_axis = np.arange(bounds[4],bounds[5],cube_side)\n",
    "    \n",
    "    all_densities = []\n",
    "    cube_dict = {}\n",
    "    for i in range(len(x_axis)-1):\n",
    "            cube_dict[i] = {}\n",
    "            for j in range(len(y_axis)-1):\n",
    "                        cube_dict[i][j] = {}\n",
    "                        for k in range(len(z_axis)-1):\n",
    "                            cube_dict[i][j][k] = []\n",
    "    large_parts = []                    \n",
    "    for i in range(len(x_axis)-1):\n",
    "            print(i,len(x_axis))\n",
    "            for j in range(len(y_axis)-1):\n",
    "                        for k in range(len(z_axis)-1):\n",
    "                            df_inside = skeleton_paths[(skeleton_paths['x_1'] > x_axis[i]) & \n",
    "                                                        (skeleton_paths['x_1'] < x_axis[i+1]) &\n",
    "                                                        (skeleton_paths['y_1'] > y_axis[j]) &\n",
    "                                                        (skeleton_paths['y_1'] < y_axis[j+1]) &\n",
    "                                                        (skeleton_paths['z_1'] > z_axis[k]) &\n",
    "                                                        (skeleton_paths['z_1'] < z_axis[k+1])&\n",
    "                                                        (skeleton_paths['x_2'] > x_axis[i]) & \n",
    "                                                        (skeleton_paths['x_2'] < x_axis[i+1]) &\n",
    "                                                        (skeleton_paths['y_2'] > y_axis[j]) &\n",
    "                                                        (skeleton_paths['y_2'] < y_axis[j+1]) &\n",
    "                                                        (skeleton_paths['z_2'] > z_axis[k]) &\n",
    "                                                        (skeleton_paths['z_2'] < z_axis[k+1])]\n",
    "                            all_densities.append(df_inside['volume'].sum()/cube_side**3)\n",
    "                            \n",
    "                            \n",
    "    final_results[name]['density_list'] = all_densities\n",
    "    final_results[name]['density_max'] = np.max(all_densities)\n",
    "    with open(\"1. results_basic_properties/\"+name + \"_basic_results.pkl\", \"wb\") as h:\n",
    "        pickle.dump(final_results[name], h)\n",
    "    \n",
    "    \n",
    "    print('Computing basic properites')            \n",
    "    skeleton_paths = pd.read_csv(path +  name+ '.paths.csv',index_col=[0])\n",
    "    skeleton_paths.drop_duplicates(inplace=True)\n",
    "    skeleton_paths['distance'] = np.sqrt((skeleton_paths['x_2']-  skeleton_paths['x_1'])**2 +  \n",
    "                                               (skeleton_paths['y_2']-  skeleton_paths['y_1'])**2 +\n",
    "                                               (skeleton_paths['z_2']-  skeleton_paths['z_1'])**2 )\n",
    "    skeleton_paths['volume'] = 1/3 * np.pi * (skeleton_paths['radius_1']**2 + skeleton_paths['radius_2']**2 +    skeleton_paths['radius_1']*skeleton_paths['radius_2'])*skeleton_paths['distance']\n",
    "    segments_path_id = skeleton_paths[['bodyId_pre','bodyId_post','path_id']].copy()\n",
    "    segments_path_id.drop_duplicates(inplace=True) \n",
    "    \n",
    "    final_results[name]['number_of_links'] = len(set(segments_path_id['path_id'].values))\n",
    "    final_results[name]['number_of_nodes'] = len(set(list(segments_path_id['bodyId_pre'].values) + list(segments_path_id['bodyId_post'].values)))\n",
    "    final_results[name]['number_of_segments'] = len(skeleton_paths)\n",
    "    with open(\"1. results_basic_properties/\"+name + \"_basic_results.pkl\", \"wb\") as h:\n",
    "           pickle.dump(final_results[name], h)\n",
    "            \n",
    "            \n",
    "    print('Computing complementary straightness')\n",
    "    connectome = segments_path_id\n",
    "    connectome_list = connectome.values.tolist()\n",
    "    connectome_loc = []\n",
    "    for i,pair in enumerate(connectome_list):\n",
    "        #print(i,pair)\n",
    "        start_row = skeleton_paths[(skeleton_paths['pt_id_1'] == pair[0] ) & (skeleton_paths['path_id'] == pair[2] )]\n",
    "        if len(start_row) == 0:\n",
    "            start_row = skeleton_paths[(skeleton_paths['pt_id_2'] == pair[0] ) & (skeleton_paths['path_id'] == pair[2] )]\n",
    "            start_loc = [start_row['x_2'].values[0],start_row['y_2'].values[0],start_row['z_2'].values[0]]\n",
    "        else:\n",
    "            start_loc = [start_row['x_1'].values[0],start_row['y_1'].values[0],start_row['z_1'].values[0]]\n",
    "\n",
    "        end_row = skeleton_paths[(skeleton_paths['pt_id_2'] == pair[1] )& (skeleton_paths['path_id'] == pair[2] )]\n",
    "        if len(end_row) == 0:\n",
    "            end_row = skeleton_paths[(skeleton_paths['pt_id_1'] == pair[1] )& (skeleton_paths['path_id'] == pair[2] )]\n",
    "            end_loc = [end_row['x_1'].values[0],end_row['y_1'].values[0],end_row['z_1'].values[0]]\n",
    "        else:\n",
    "            end_loc = [end_row['x_2'].values[0],end_row['y_2'].values[0],end_row['z_2'].values[0]]\n",
    "        pair.append(start_loc)\n",
    "        pair.append(end_loc)\n",
    "        connectome_loc.append(pair)\n",
    "        \n",
    "    euclidean_path_length_list = []\n",
    "    total_path_length_list = []\n",
    "    contraction_list = []\n",
    "    count = 0\n",
    "    contraction_pairs = {}\n",
    "    volume_pairs = {}\n",
    "    for index,pair in enumerate(connectome_loc):\n",
    "        #print(count)\n",
    "        #print(pair)\n",
    "        bodyid_pre = pair[0]\n",
    "        bodyid_post = pair[1]\n",
    "        skeleton_df = skeleton_paths[skeleton_paths['path_id'] == pair[2]].copy()\n",
    "        #print(len(skeleton_df))\n",
    "\n",
    "        point_list = skeleton_df[['x_1','y_1','z_1']].values.tolist()\n",
    "        radius_list = skeleton_df[['radius_1']].values.tolist()\n",
    "        distance_list = []\n",
    "        volume_list =  []\n",
    "        for i,row in skeleton_df.iterrows():\n",
    "            point_start =  row[['x_1','y_1','z_1']].values.tolist()\n",
    "            point_end =  row[['x_2','y_2','z_2']].values.tolist()\n",
    "            radius_start =  row[['radius_1']].values.tolist()[0]\n",
    "            radius_end = row[['radius_2']].values.tolist()[0]\n",
    "            distance = np.sqrt((point_end[0] - point_start[0])**2 + (point_end[1] - point_start[1])**2 + (point_end[2] - point_start[2])**2 )\n",
    "            distance_list.append(distance)\n",
    "            volume = 1/3 * np.pi * distance * ( radius_start**2 + radius_end**2 + radius_start*radius_end)\n",
    "            volume_list.append(volume)\n",
    "        total_path_length = np.sum(distance_list)\n",
    "        total_volume = np.sum(volume_list)\n",
    "        if total_path_length > 0:\n",
    "            total_path_length_list.append(total_path_length)\n",
    "\n",
    "            # Sometimes, there is a switch between x1 and x2 in starting location, but path length is calculated starting from x1 always check\n",
    "            # This means that paths are not sorted perfectly, in a sense that bodyidpre is first row x_1,y_1,z_1, as it might be x_2,y_2,z_2\n",
    "            node_source = pair[3]\n",
    "            node_target = pair[4]\n",
    "            #print(node_source,node_target)\n",
    "\n",
    "            euclidean_distance = np.sqrt((node_source[0]-node_target[0])**2 +(node_source[1]-node_target[1])**2 + (node_source[2]-node_target[2])**2) \n",
    "            euclidean_path_length_list.append(euclidean_distance)\n",
    "            contraction = euclidean_distance/total_path_length\n",
    "            contraction_list.append(contraction )\n",
    "            contraction_pairs[pair[2]] = 1 - contraction\n",
    "            volume_pairs[pair[2]] = total_volume\n",
    "            #if contraction > 1:\n",
    "            #    break\n",
    "        count +=1 \n",
    "\n",
    "    final_results[name]['c_straightness'] = contraction_pairs\n",
    "    final_results[name]['link_volume'] = volume_pairs\n",
    "\n",
    "    with open(\"1. results_basic_properties/\"+name + \"_basic_results.pkl\", \"wb\") as h:\n",
    "               pickle.dump(final_results[name], h)"
   ]
  },
  {
   "cell_type": "code",
   "execution_count": 120,
   "id": "5adb2de3-7c72-4a36-8136-3b57df747914",
   "metadata": {},
   "outputs": [
    {
     "data": {
      "text/html": [
       "<div>\n",
       "<style scoped>\n",
       "    .dataframe tbody tr th:only-of-type {\n",
       "        vertical-align: middle;\n",
       "    }\n",
       "\n",
       "    .dataframe tbody tr th {\n",
       "        vertical-align: top;\n",
       "    }\n",
       "\n",
       "    .dataframe thead th {\n",
       "        text-align: right;\n",
       "    }\n",
       "</style>\n",
       "<table border=\"1\" class=\"dataframe\">\n",
       "  <thead>\n",
       "    <tr style=\"text-align: right;\">\n",
       "      <th></th>\n",
       "      <th>pt_id_1</th>\n",
       "      <th>x_1</th>\n",
       "      <th>y_1</th>\n",
       "      <th>z_1</th>\n",
       "      <th>radius_1</th>\n",
       "      <th>pt_id_2</th>\n",
       "      <th>x_2</th>\n",
       "      <th>y_2</th>\n",
       "      <th>z_2</th>\n",
       "      <th>radius_2</th>\n",
       "      <th>path_id</th>\n",
       "      <th>bodyId_pre</th>\n",
       "      <th>bodyId_post</th>\n",
       "      <th>distance</th>\n",
       "      <th>volume</th>\n",
       "    </tr>\n",
       "  </thead>\n",
       "  <tbody>\n",
       "    <tr>\n",
       "      <th>0</th>\n",
       "      <td>1</td>\n",
       "      <td>0.00</td>\n",
       "      <td>0.00</td>\n",
       "      <td>0.0</td>\n",
       "      <td>0.5</td>\n",
       "      <td>2</td>\n",
       "      <td>0.32</td>\n",
       "      <td>0.36</td>\n",
       "      <td>0.0</td>\n",
       "      <td>0.5</td>\n",
       "      <td>0</td>\n",
       "      <td>1</td>\n",
       "      <td>2</td>\n",
       "      <td>0.481664</td>\n",
       "      <td>0.378298</td>\n",
       "    </tr>\n",
       "    <tr>\n",
       "      <th>1</th>\n",
       "      <td>1</td>\n",
       "      <td>0.00</td>\n",
       "      <td>0.00</td>\n",
       "      <td>0.0</td>\n",
       "      <td>0.5</td>\n",
       "      <td>3</td>\n",
       "      <td>-0.32</td>\n",
       "      <td>-0.36</td>\n",
       "      <td>0.0</td>\n",
       "      <td>0.5</td>\n",
       "      <td>1</td>\n",
       "      <td>1</td>\n",
       "      <td>3</td>\n",
       "      <td>0.481664</td>\n",
       "      <td>0.378298</td>\n",
       "    </tr>\n",
       "    <tr>\n",
       "      <th>2</th>\n",
       "      <td>1</td>\n",
       "      <td>0.00</td>\n",
       "      <td>0.00</td>\n",
       "      <td>0.0</td>\n",
       "      <td>0.5</td>\n",
       "      <td>4</td>\n",
       "      <td>0.55</td>\n",
       "      <td>0.81</td>\n",
       "      <td>0.0</td>\n",
       "      <td>0.5</td>\n",
       "      <td>2</td>\n",
       "      <td>1</td>\n",
       "      <td>10</td>\n",
       "      <td>0.979081</td>\n",
       "      <td>0.768969</td>\n",
       "    </tr>\n",
       "    <tr>\n",
       "      <th>3</th>\n",
       "      <td>4</td>\n",
       "      <td>0.55</td>\n",
       "      <td>0.81</td>\n",
       "      <td>0.0</td>\n",
       "      <td>0.5</td>\n",
       "      <td>5</td>\n",
       "      <td>1.12</td>\n",
       "      <td>1.63</td>\n",
       "      <td>0.0</td>\n",
       "      <td>0.5</td>\n",
       "      <td>2</td>\n",
       "      <td>1</td>\n",
       "      <td>10</td>\n",
       "      <td>0.998649</td>\n",
       "      <td>0.784337</td>\n",
       "    </tr>\n",
       "    <tr>\n",
       "      <th>4</th>\n",
       "      <td>5</td>\n",
       "      <td>1.12</td>\n",
       "      <td>1.63</td>\n",
       "      <td>0.0</td>\n",
       "      <td>0.5</td>\n",
       "      <td>6</td>\n",
       "      <td>1.69</td>\n",
       "      <td>2.46</td>\n",
       "      <td>0.0</td>\n",
       "      <td>0.5</td>\n",
       "      <td>2</td>\n",
       "      <td>1</td>\n",
       "      <td>10</td>\n",
       "      <td>1.006876</td>\n",
       "      <td>0.790799</td>\n",
       "    </tr>\n",
       "    <tr>\n",
       "      <th>...</th>\n",
       "      <td>...</td>\n",
       "      <td>...</td>\n",
       "      <td>...</td>\n",
       "      <td>...</td>\n",
       "      <td>...</td>\n",
       "      <td>...</td>\n",
       "      <td>...</td>\n",
       "      <td>...</td>\n",
       "      <td>...</td>\n",
       "      <td>...</td>\n",
       "      <td>...</td>\n",
       "      <td>...</td>\n",
       "      <td>...</td>\n",
       "      <td>...</td>\n",
       "      <td>...</td>\n",
       "    </tr>\n",
       "    <tr>\n",
       "      <th>7501</th>\n",
       "      <td>7378</td>\n",
       "      <td>-129.85</td>\n",
       "      <td>-80.63</td>\n",
       "      <td>0.0</td>\n",
       "      <td>0.5</td>\n",
       "      <td>7379</td>\n",
       "      <td>-129.85</td>\n",
       "      <td>-81.63</td>\n",
       "      <td>0.0</td>\n",
       "      <td>0.5</td>\n",
       "      <td>115</td>\n",
       "      <td>7276</td>\n",
       "      <td>7383</td>\n",
       "      <td>1.000000</td>\n",
       "      <td>0.785398</td>\n",
       "    </tr>\n",
       "    <tr>\n",
       "      <th>7502</th>\n",
       "      <td>7379</td>\n",
       "      <td>-129.85</td>\n",
       "      <td>-81.63</td>\n",
       "      <td>0.0</td>\n",
       "      <td>0.5</td>\n",
       "      <td>7380</td>\n",
       "      <td>-129.84</td>\n",
       "      <td>-82.63</td>\n",
       "      <td>0.0</td>\n",
       "      <td>0.5</td>\n",
       "      <td>115</td>\n",
       "      <td>7276</td>\n",
       "      <td>7383</td>\n",
       "      <td>1.000050</td>\n",
       "      <td>0.785437</td>\n",
       "    </tr>\n",
       "    <tr>\n",
       "      <th>7503</th>\n",
       "      <td>7380</td>\n",
       "      <td>-129.84</td>\n",
       "      <td>-82.63</td>\n",
       "      <td>0.0</td>\n",
       "      <td>0.5</td>\n",
       "      <td>7381</td>\n",
       "      <td>-129.84</td>\n",
       "      <td>-83.63</td>\n",
       "      <td>0.0</td>\n",
       "      <td>0.5</td>\n",
       "      <td>115</td>\n",
       "      <td>7276</td>\n",
       "      <td>7383</td>\n",
       "      <td>1.000000</td>\n",
       "      <td>0.785398</td>\n",
       "    </tr>\n",
       "    <tr>\n",
       "      <th>7504</th>\n",
       "      <td>7381</td>\n",
       "      <td>-129.84</td>\n",
       "      <td>-83.63</td>\n",
       "      <td>0.0</td>\n",
       "      <td>0.5</td>\n",
       "      <td>7382</td>\n",
       "      <td>-129.84</td>\n",
       "      <td>-84.63</td>\n",
       "      <td>0.0</td>\n",
       "      <td>0.5</td>\n",
       "      <td>115</td>\n",
       "      <td>7276</td>\n",
       "      <td>7383</td>\n",
       "      <td>1.000000</td>\n",
       "      <td>0.785398</td>\n",
       "    </tr>\n",
       "    <tr>\n",
       "      <th>7505</th>\n",
       "      <td>7382</td>\n",
       "      <td>-129.84</td>\n",
       "      <td>-84.63</td>\n",
       "      <td>0.0</td>\n",
       "      <td>0.5</td>\n",
       "      <td>7383</td>\n",
       "      <td>-129.83</td>\n",
       "      <td>-85.63</td>\n",
       "      <td>0.0</td>\n",
       "      <td>0.5</td>\n",
       "      <td>115</td>\n",
       "      <td>7276</td>\n",
       "      <td>7383</td>\n",
       "      <td>1.000050</td>\n",
       "      <td>0.785437</td>\n",
       "    </tr>\n",
       "  </tbody>\n",
       "</table>\n",
       "<p>7506 rows × 15 columns</p>\n",
       "</div>"
      ],
      "text/plain": [
       "      pt_id_1     x_1    y_1  z_1  radius_1  pt_id_2     x_2    y_2  z_2  \\\n",
       "0           1    0.00   0.00  0.0       0.5        2    0.32   0.36  0.0   \n",
       "1           1    0.00   0.00  0.0       0.5        3   -0.32  -0.36  0.0   \n",
       "2           1    0.00   0.00  0.0       0.5        4    0.55   0.81  0.0   \n",
       "3           4    0.55   0.81  0.0       0.5        5    1.12   1.63  0.0   \n",
       "4           5    1.12   1.63  0.0       0.5        6    1.69   2.46  0.0   \n",
       "...       ...     ...    ...  ...       ...      ...     ...    ...  ...   \n",
       "7501     7378 -129.85 -80.63  0.0       0.5     7379 -129.85 -81.63  0.0   \n",
       "7502     7379 -129.85 -81.63  0.0       0.5     7380 -129.84 -82.63  0.0   \n",
       "7503     7380 -129.84 -82.63  0.0       0.5     7381 -129.84 -83.63  0.0   \n",
       "7504     7381 -129.84 -83.63  0.0       0.5     7382 -129.84 -84.63  0.0   \n",
       "7505     7382 -129.84 -84.63  0.0       0.5     7383 -129.83 -85.63  0.0   \n",
       "\n",
       "      radius_2  path_id  bodyId_pre  bodyId_post  distance    volume  \n",
       "0          0.5        0           1            2  0.481664  0.378298  \n",
       "1          0.5        1           1            3  0.481664  0.378298  \n",
       "2          0.5        2           1           10  0.979081  0.768969  \n",
       "3          0.5        2           1           10  0.998649  0.784337  \n",
       "4          0.5        2           1           10  1.006876  0.790799  \n",
       "...        ...      ...         ...          ...       ...       ...  \n",
       "7501       0.5      115        7276         7383  1.000000  0.785398  \n",
       "7502       0.5      115        7276         7383  1.000050  0.785437  \n",
       "7503       0.5      115        7276         7383  1.000000  0.785398  \n",
       "7504       0.5      115        7276         7383  1.000000  0.785398  \n",
       "7505       0.5      115        7276         7383  1.000050  0.785437  \n",
       "\n",
       "[7506 rows x 15 columns]"
      ]
     },
     "execution_count": 120,
     "metadata": {},
     "output_type": "execute_result"
    }
   ],
   "source": [
    "skeleton_paths"
   ]
  },
  {
   "cell_type": "code",
   "execution_count": 119,
   "id": "55bf10a2-7283-41b3-86b9-64debe46cb19",
   "metadata": {},
   "outputs": [
    {
     "data": {
      "text/plain": [
       "0.0"
      ]
     },
     "execution_count": 119,
     "metadata": {},
     "output_type": "execute_result"
    }
   ],
   "source": [
    "cube_side"
   ]
  },
  {
   "cell_type": "code",
   "execution_count": null,
   "id": "a974badf-5b55-4e71-93f4-409aea2d024f",
   "metadata": {},
   "outputs": [],
   "source": []
  }
 ],
 "metadata": {
  "kernelspec": {
   "display_name": "Python 3 (ipykernel)",
   "language": "python",
   "name": "python3"
  },
  "language_info": {
   "codemirror_mode": {
    "name": "ipython",
    "version": 3
   },
   "file_extension": ".py",
   "mimetype": "text/x-python",
   "name": "python",
   "nbconvert_exporter": "python",
   "pygments_lexer": "ipython3",
   "version": "3.9.7"
  }
 },
 "nbformat": 4,
 "nbformat_minor": 5
}
